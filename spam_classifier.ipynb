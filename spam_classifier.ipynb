{
  "nbformat": 4,
  "nbformat_minor": 0,
  "metadata": {
    "colab": {
      "provenance": [],
      "authorship_tag": "ABX9TyPDC/fNYhNludXidlRO1oZQ",
      "include_colab_link": true
    },
    "kernelspec": {
      "name": "python3",
      "display_name": "Python 3"
    },
    "language_info": {
      "name": "python"
    }
  },
  "cells": [
    {
      "cell_type": "markdown",
      "metadata": {
        "id": "view-in-github",
        "colab_type": "text"
      },
      "source": [
        "<a href=\"https://colab.research.google.com/github/rohitsinghnaruka/SpamClassifier/blob/main/spam_classifier.ipynb\" target=\"_parent\"><img src=\"https://colab.research.google.com/assets/colab-badge.svg\" alt=\"Open In Colab\"/></a>"
      ]
    },
    {
      "cell_type": "code",
      "execution_count": 7,
      "metadata": {
        "id": "YWETPky_i3EX"
      },
      "outputs": [],
      "source": [
        "import tarfile\n",
        "import os\n",
        "import urllib.request\n",
        "\n",
        "\n"
      ]
    },
    {
      "cell_type": "code",
      "source": [
        "DOWNLOAD_ROOT = \"http://spamassassin.apache.org/old/publiccorpus/\"\n",
        "HAM_URL = DOWNLOAD_ROOT + \"20030228_easy_ham.tar.bz2\"\n",
        "SPAM_URL = DOWNLOAD_ROOT + \"20030228_spam.tar.bz2\"\n",
        "SPAM_PATH = os.path.join(\"datasets\", \"spam\")"
      ],
      "metadata": {
        "id": "pBNDhje2N-bE"
      },
      "execution_count": 8,
      "outputs": []
    },
    {
      "cell_type": "code",
      "source": [
        "def fetch_spam_data(ham_url = HAM_URL , spam_url = SPAM_URL , spam_path = SPAM_PATH):\n",
        "  if not os.path.isdir(spam_path):\n",
        "    os.makedirs(spam_path)\n",
        "  for filename , url in ((\"ham.tar.bz2\" , ham_url),(\"spam.tar.bz2\",spam_url)):\n",
        "    path = os.path.join(spam_path , filename)\n",
        "    if not os.path.isfile(path):\n",
        "      urllib.request.urlretrive(url , path)\n",
        "    tarbz2_file = tarfile.open(path)\n",
        "    tarbz2_file.extractall(path = spam_path)\n",
        "    tarbz2_file.close()\n",
        "\n",
        ""
      ],
      "metadata": {
        "id": "JUp-hzZnrkU8"
      },
      "execution_count": 10,
      "outputs": []
    },
    {
      "cell_type": "code",
      "source": [],
      "metadata": {
        "id": "fspniXFDOor7"
      },
      "execution_count": null,
      "outputs": []
    }
  ]
}